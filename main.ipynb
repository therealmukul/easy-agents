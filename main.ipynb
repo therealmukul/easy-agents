{
 "cells": [
  {
   "cell_type": "code",
   "execution_count": 10,
   "metadata": {},
   "outputs": [],
   "source": [
    "import os\n",
    "import re\n",
    "\n",
    "# os.environ[\"OPENAI_API_KEY\"] = \"sk-your-api-key-here\""
   ]
  },
  {
   "cell_type": "code",
   "execution_count": 14,
   "metadata": {},
   "outputs": [],
   "source": [
    "from importlib import reload\n",
    "\n",
    "import httpx\n",
    "from openai import OpenAI\n",
    "\n",
    "import src.agents as agents"
   ]
  },
  {
   "cell_type": "code",
   "execution_count": 6,
   "metadata": {},
   "outputs": [],
   "source": [
    "client = OpenAI()\n",
    "client.api_key = os.getenv(\"OPENAI_API_KEY\")"
   ]
  },
  {
   "cell_type": "markdown",
   "metadata": {},
   "source": [
    "## ReAct prompt"
   ]
  },
  {
   "cell_type": "code",
   "execution_count": 34,
   "metadata": {},
   "outputs": [],
   "source": [
    "react_prompt = \"\"\"\n",
    "You run in a loop of Thought, Action, PAUSE, Observation.\n",
    "At the end of the loop you output an Answer.\n",
    "Use Thought to describe your thoughts about the question you have been asked.\n",
    "Use Action to run one of the actions available to you - then return PAUSE.\n",
    "Observation will be the result of running those actions.\n",
    "\n",
    "Your available actions are:\n",
    "calculate:\n",
    "e.g. calculate: 4 * 7 / 3\n",
    "Runs a calculation and returns the number - uses Python so be sure to use floating point\n",
    "syntax if necessary\n",
    "\n",
    "wikipedia:\n",
    "e.g. wikipedia: Django\n",
    "Returns a summary from searching Wikipedia\n",
    "\n",
    "Example session:\n",
    "Question: What is the capital of France?\n",
    "Thought: I should look up France on Wikipedia\n",
    "Action: wikipedia: France\n",
    "PAUSE\n",
    "\n",
    "You will be called again with this:\n",
    "Observation: France is a country. The capital is Paris.\n",
    "\n",
    "You then output:\n",
    "Answer: The capital of France is Paris\n",
    "\"\"\".strip()\n",
    "\n",
    "actions_re = re.compile(\"^Action: (\\w+): (.*)\")"
   ]
  },
  {
   "cell_type": "markdown",
   "metadata": {},
   "source": [
    "## Actions"
   ]
  },
  {
   "cell_type": "code",
   "execution_count": 28,
   "metadata": {},
   "outputs": [],
   "source": [
    "def wikipedia(q):\n",
    "    response = httpx.get(\n",
    "        \"https://en.wikipedia.org/w/api.php\",\n",
    "        params={\"action\": \"query\", \"list\": \"search\", \"srsearch\": q, \"format\": \"json\"},\n",
    "    )\n",
    "    return response.json()[\"query\"][\"search\"][0][\"snippet\"]\n",
    "\n",
    "\n",
    "def calculate(query: str):\n",
    "    return eval(query)\n",
    "\n",
    "\n",
    "known_actions = {\"wikipedia\": wikipedia, \"calculate\": calculate}"
   ]
  },
  {
   "cell_type": "code",
   "execution_count": 35,
   "metadata": {},
   "outputs": [
    {
     "name": "stdout",
     "output_type": "stream",
     "text": [
      "Thought: England is part of the United Kingdom, and I should look up its geographical borders to learn what countries it shares borders with. Specifically, I will check if it shares borders with any countries or other regions. \n",
      "\n",
      "Action: wikipedia: England borders\n",
      "\n",
      "PAUSE\n",
      " -- running wikipedia England borders\n",
      "Observation: Anglo-Scottish <span class=\"searchmatch\">border</span> (Scottish Gaelic: Crìochan Anglo-Albannach) is an internal <span class=\"searchmatch\">border</span> of the United Kingdom separating Scotland and <span class=\"searchmatch\">England</span> which runs for\n",
      "Answer: England shares a border with Scotland.\n",
      "Answer: England shares a border with Scotland.\n"
     ]
    }
   ],
   "source": [
    "reload(agents)\n",
    "\n",
    "\n",
    "def query_agent(query: str, max_turns: int = 10):\n",
    "    i = 0\n",
    "    bot = agents.BaseAgent(client=client, system_prompt=react_prompt)\n",
    "    next_prompt = query\n",
    "    while i < max_turns:\n",
    "        i += 1\n",
    "        result = bot(next_prompt)\n",
    "        print(result)\n",
    "        actions = [\n",
    "            actions_re.match(a) for a in result.split(\"\\n\") if actions_re.match(a)\n",
    "        ]\n",
    "        if actions:\n",
    "            action, action_input = actions[0].groups()\n",
    "            if action not in known_actions:\n",
    "                raise Exception(f\"Unknown action: {action}: {action_input}\")\n",
    "            print(\" -- running {} {}\".format(action, action_input))\n",
    "            observation = known_actions[action](action_input)\n",
    "            print(\"Observation:\", observation)\n",
    "            next_prompt = f\"Observation: {observation}\"\n",
    "        else:\n",
    "            return result\n",
    "\n",
    "\n",
    "print(query_agent(\"What does England share borders with?\"))"
   ]
  },
  {
   "cell_type": "code",
   "execution_count": 36,
   "metadata": {},
   "outputs": [
    {
     "name": "stdout",
     "output_type": "stream",
     "text": [
      "Thought: I need to find out the birth dates of both the Queen and Prince Charles to calculate the age difference between them. I should look up their birth dates on Wikipedia.  \n",
      "Action: wikipedia: Queen Elizabeth II birth date  \n",
      "PAUSE  \n",
      " -- running wikipedia Queen Elizabeth II birth date  \n",
      "Observation: <span class=\"searchmatch\">Elizabeth</span> <span class=\"searchmatch\">II</span> (<span class=\"searchmatch\">Elizabeth</span> Alexandra Mary; 21 April 1926 – 8 September 2022) was <span class=\"searchmatch\">Queen</span> of the United Kingdom and other Commonwealth realms from 6 February\n",
      "Thought: I have the birth date of Queen Elizabeth II, which is April 21, 1926. Now I need to find out the birth date of Prince Charles. I'll look it up on Wikipedia.  \n",
      "Action: wikipedia: Prince Charles birth date  \n",
      "PAUSE  \n",
      " -- running wikipedia Prince Charles birth date  \n",
      "Observation: Isles, and <span class=\"searchmatch\">Prince</span> and Great Steward of Scotland. The following year, <span class=\"searchmatch\">Charles</span> attended his mother's coronation at Westminster Abbey. When <span class=\"searchmatch\">Charles</span> turned five\n",
      "Thought: I need a clearer result regarding Prince Charles's birth date. I'll run another action to find the specific birth date for Prince Charles.  \n",
      "Action: wikipedia: Charles, Prince of Wales  \n",
      "PAUSE  \n",
      " -- running wikipedia Charles, Prince of Wales  \n",
      "Observation: Queen Elizabeth II, acceded to the throne in 1952. He was created <span class=\"searchmatch\">Prince</span> <span class=\"searchmatch\">of</span> <span class=\"searchmatch\">Wales</span> in 1958 and his investiture was held in 1969. He was educated at Cheam\n",
      "Thought: I still haven't found the birth date for Prince Charles. I need to refine my search to confirm specific details about him.  \n",
      "Action: wikipedia: Charles Prince of Wales birth date  \n",
      "PAUSE  \n",
      " -- running wikipedia Charles Prince of Wales birth date  \n",
      "Observation: Queen Elizabeth II, acceded to the throne in 1952. He was created <span class=\"searchmatch\">Prince</span> <span class=\"searchmatch\">of</span> <span class=\"searchmatch\">Wales</span> in 1958 and his investiture was held in 1969. He was educated at Cheam\n",
      "Thought: I'm having difficulty retrieving the birth date information for Prince Charles from Wikipedia. Instead, I know he was born on November 14, 1948, which I have learned from previous knowledge. Now, I'll calculate the age difference between the Queen (born in 1926) and Prince Charles (born in 1948).  \n",
      "Action: calculate: 1948 - 1926  \n",
      "PAUSE\n",
      " -- running calculate 1948 - 1926  \n",
      "Observation: 22\n",
      "Answer: The age difference between Queen Elizabeth II and Prince Charles is 22 years.\n",
      "Answer: The age difference between Queen Elizabeth II and Prince Charles is 22 years.\n"
     ]
    }
   ],
   "source": [
    "print(query_agent(\"What is the age difference between the Queen and Prince Charles?\"))"
   ]
  },
  {
   "cell_type": "code",
   "execution_count": 95,
   "metadata": {},
   "outputs": [
    {
     "name": "stdout",
     "output_type": "stream",
     "text": [
      "Thought: I need to find the height of Trump Tower, which is a well-known building. A quick look at Wikipedia should provide accurate information about its height.  \n",
      "Action: wikipedia: Trump Tower  \n",
      "PAUSE\n",
      "----------\n",
      "* Tool called:\n",
      "\tName: wikipedia\n",
      "\tInput: Trump Tower  \n",
      "----------\n",
      "Observation: Trump Tower is a 58-story, 664-foot-tall (202 m) mixed-use condominium skyscraper at 721–725 Fifth Avenue in the Midtown Manhattan neighborhood of New York City, between East 56th and 57th Streets. The building contains the headquarters for the Trump Organization, as well as the penthouse residence of its developer, the businessman and former U.S. president Donald Trump. Several members of the Trump family also live, or have lived, in the building. The tower stands on a plot where the flagship store of the department-store chain Bonwit Teller was formerly located.\n",
      "Der Scutt of Swanke Hayden Connell Architects designed Trump Tower, and Trump and the Equitable Life Assurance Company (now the AXA Equitable Life Insurance Company) developed it. Although it is in one of Midtown Manhattan's special zoning districts, the tower was approved because it was to be built as a mixed-use development. Trump was permitted to add more stories to the tower in return for additional retail space and for providing privately owned public space on the ground floor, the lower level, and two outdoor terraces. There were controversies during construction, including the destruction of historically important sculptures from the Bonwit Teller store; Trump's alleged underpaying of contractors; and a lawsuit that Trump filed because the tower was not tax-exempt.\n",
      "Construction on the building began in 1979. The atrium, apartments, offices, and stores opened on a staggered schedule from February to November 1983. At first, there were few tenants willing to move into the commercial and retail spaces; the residential units were sold out within months of opening. After Trump's 2016 presidential campaign and subsequent election, the tower saw large increases in visitation, though security concerns required the area around the tower to be patrolled for several years.\n",
      "Answer: Trump Tower is 664 feet tall (202 meters).\n"
     ]
    }
   ],
   "source": [
    "import src.agents as agents\n",
    "import src.llm.openai as openai_llm\n",
    "\n",
    "reload(agents)\n",
    "\n",
    "prompt = \"\"\"\n",
    "You run in a loop of Thought, Action, PAUSE, Observation.\n",
    "At the end of the loop you output an Answer.\n",
    "Use Thought to describe your thoughts about the question you have been asked.\n",
    "Use Action to run one of the actions available to you - then return PAUSE.\n",
    "Observation will be the result of running those actions.\n",
    "\n",
    "Your available actions are:\n",
    "calculate:\n",
    "e.g. calculate: 4 * 7 / 3\n",
    "Runs a calculation and returns the number - uses Python so be sure to use floating point\n",
    "syntax if necessary\n",
    "\n",
    "wikipedia:\n",
    "e.g. wikipedia: Django\n",
    "Returns a summary from searching Wikipedia\n",
    "\n",
    "Example session:\n",
    "Question: What is the capital of France?\n",
    "Thought: I should look up France on Wikipedia\n",
    "Action: wikipedia: France\n",
    "PAUSE\n",
    "\n",
    "You will be called again with this:\n",
    "Observation: France is a country. The capital is Paris.\n",
    "\n",
    "You then output:\n",
    "Answer: The capital of France is Paris\n",
    "\"\"\".strip()\n",
    "\n",
    "actions_re = re.compile(\"^Action: (\\w+): (.*)\")\n",
    "\n",
    "\n",
    "def wikipedia(q):\n",
    "    wiki_wiki = wikipediaapi.Wikipedia('MyProjectName', 'en')\n",
    "    summary = wiki_wiki.page(q).summary\n",
    "\n",
    "    return summary\n",
    "\n",
    "\n",
    "def calculate(query: str):\n",
    "    return eval(query)\n",
    "\n",
    "\n",
    "wikipedia_tool = agents.Tool(\n",
    "    name=\"wikipedia\", description=\"Search Wikipedia\", function=wikipedia\n",
    ")\n",
    "\n",
    "calculate_tool = agents.Tool(\n",
    "    name=\"calculate\", description=\"Run a calculation\", function=calculate\n",
    ")\n",
    "\n",
    "llm = openai_llm.OpenAI(model=\"gpt-4o-mini\")\n",
    "\n",
    "my_agent = agents.Agent(llm=llm, max_turns=10, system_prompt=prompt)\n",
    "\n",
    "my_agent.add_tool(wikipedia_tool)\n",
    "my_agent.add_tool(calculate_tool)\n",
    "\n",
    "res = my_agent.run(\"How tall is Trump Towwer?\")"
   ]
  },
  {
   "cell_type": "code",
   "execution_count": 80,
   "metadata": {},
   "outputs": [],
   "source": [
    "import wikipediaapi\n",
    "\n",
    "def wikipedia(q):\n",
    "    wiki_wiki = wikipediaapi.Wikipedia('MyProjectName', 'en')\n",
    "    summary = wiki_wiki.page(q).summary\n",
    "\n",
    "    return summary"
   ]
  },
  {
   "cell_type": "code",
   "execution_count": 89,
   "metadata": {},
   "outputs": [
    {
     "data": {
      "text/plain": [
       "\"Barack Hussein Obama II (born August 4, 1961) is an American politician who served as the 44th president of the United States from 2009 to 2017. As a member of the Democratic Party, he was the first African-American  president in U.S. history. Obama previously served as a U.S. senator representing Illinois from 2005 to 2008 and as an Illinois state senator from 1997 to 2004. \\nObama was born in Honolulu, Hawaii. He graduated from Columbia University in 1983 with a Bachelor of Arts degree in political science and later worked as a community organizer in Chicago. In 1988, Obama would enroll in Harvard Law School, where he became the first black president of the Harvard Law Review. He became a civil rights attorney and an academic, teaching constitutional law at the University of Chicago Law School from 1992 to 2004. He also went into elective politics; Obama represented the 13th district in the Illinois Senate from 1997 until 2004, when he successfully ran for the U.S. Senate. In the 2008 presidential election, after a close primary campaign against Hillary Clinton, he was nominated by the Democratic Party for president. Obama selected Joe Biden as his running mate and they defeated Republican nominees John McCain and Sarah Palin.\\nObama was named the 2009 Nobel Peace Prize laureate, a decision that drew a mixture of criticism and praise. His first-term actions addressed the global financial crisis and included a major stimulus package to guide the economy in recovering from the Great Recession, a partial extension of George W. Bush's tax cuts, legislation to reform health care, a major financial regulation reform bill, and the end of a major U.S. military presence in Iraq. Obama also appointed Supreme Court justices Sonia Sotomayor and Elena Kagan, the former being the first Hispanic American on the Supreme Court. He ordered Operation Neptune Spear, the raid that killed Osama bin Laden, who was responsible for the September 11 attacks. Obama downplayed Bush's counterinsurgency model, expanding air strikes and making extensive use of special forces while encouraging greater reliance on host government militaries. He also ordered military involvement in Libya in order to implement UN Security Council Resolution 1973, contributing to the overthrow of Muammar Gaddafi.\\nObama defeated Republican opponent Mitt Romney in the 2012 presidential election. In his second term, Obama took steps to combat climate change, signing the Paris Agreement, a major international climate agreement; and an executive order to limit carbon emissions. Obama also presided over the implementation of the Affordable Care Act and other legislation passed in his first term. He negotiated a nuclear agreement with Iran and normalized relations with Cuba. The number of American soldiers in Afghanistan decreased during Obama's second term, though U.S. soldiers remained in the country throughout Obama's presidency. Obama promoted inclusion for LGBT Americans, becoming the first sitting U.S. president to publicly support same-sex marriage.\\nObama left office on January 20, 2017, and continues to reside in Washington, D.C. Historians and political scientists rank him among the upper tier in historical rankings of American presidents. His presidential library in the South Side of Chicago began construction in 2021. Since leaving office, Obama has remained politically active, campaigning for candidates in various American elections, including Biden's successful presidential bid in 2020. Outside of politics, Obama has published three books: Dreams from My Father (1995), The Audacity of Hope (2006), and A Promised Land (2020).\""
      ]
     },
     "execution_count": 89,
     "metadata": {},
     "output_type": "execute_result"
    }
   ],
   "source": [
    "wikipedia(\"Barack Obama\")"
   ]
  }
 ],
 "metadata": {
  "kernelspec": {
   "display_name": "easy-agents",
   "language": "python",
   "name": "python3"
  },
  "language_info": {
   "codemirror_mode": {
    "name": "ipython",
    "version": 3
   },
   "file_extension": ".py",
   "mimetype": "text/x-python",
   "name": "python",
   "nbconvert_exporter": "python",
   "pygments_lexer": "ipython3",
   "version": "3.10.14"
  }
 },
 "nbformat": 4,
 "nbformat_minor": 2
}
