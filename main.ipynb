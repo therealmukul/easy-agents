{
 "cells": [
  {
   "cell_type": "code",
   "execution_count": 10,
   "metadata": {},
   "outputs": [],
   "source": [
    "import os\n",
    "import re\n",
    "# os.environ[\"OPENAI_API_KEY\"] = \"sk-your-api-key-here\""
   ]
  },
  {
   "cell_type": "code",
   "execution_count": 14,
   "metadata": {},
   "outputs": [],
   "source": [
    "from importlib import reload\n",
    "\n",
    "import httpx\n",
    "from openai import OpenAI\n",
    "\n",
    "import src.agents as agents"
   ]
  },
  {
   "cell_type": "code",
   "execution_count": 6,
   "metadata": {},
   "outputs": [],
   "source": [
    "client = OpenAI()\n",
    "client.api_key = os.getenv(\"OPENAI_API_KEY\")"
   ]
  },
  {
   "cell_type": "markdown",
   "metadata": {},
   "source": [
    "## ReAct prompt"
   ]
  },
  {
   "cell_type": "code",
   "execution_count": 11,
   "metadata": {},
   "outputs": [],
   "source": [
    "react_prompt = \"\"\"\n",
    "You run in a loop of Thought, Action, PAUSE, Observation.\n",
    "At the end of the loop you output an Answer.\n",
    "Use Thought to describe your thoughts about the question you have been asked.\n",
    "Use Action to run one of the actions available to you - then return PAUSE.\n",
    "Observation will be the result of running those actions.\n",
    "\n",
    "Your available actions are:\n",
    "calculate:\n",
    "e.g. calculate: 4 * 7 / 3\n",
    "Runs a calculation and returns the number - uses Python so be sure to use floating point\n",
    "syntax if necessary\n",
    "\n",
    "wikipedia:\n",
    "e.g. wikipedia: Django\n",
    "Returns a summary from searching Wikipedia\n",
    "\n",
    "simon_blog_search:\n",
    "e.g. simon_blog_search: Django\n",
    "Search Simon's blog for that term\n",
    "\n",
    "Example session:\n",
    "Question: What is the capital of France?\n",
    "Thought: I should look up France on Wikipedia\n",
    "Action: wikipedia: France\n",
    "PAUSE\n",
    "\n",
    "You will be called again with this:\n",
    "Observation: France is a country. The capital is Paris.\n",
    "\n",
    "You then output:\n",
    "Answer: The capital of France is Paris\n",
    "\"\"\".strip()\n",
    "\n",
    "actions_re = re.compile('^Action: (\\w+): (.*)')"
   ]
  },
  {
   "cell_type": "markdown",
   "metadata": {},
   "source": [
    "## Actions"
   ]
  },
  {
   "cell_type": "code",
   "execution_count": 21,
   "metadata": {},
   "outputs": [],
   "source": [
    "def wikipedia(q):\n",
    "    response = httpx.get(\"https://en.wikipedia.org/w/api.php\", params={\n",
    "        \"action\": \"query\",\n",
    "        \"list\": \"search\",\n",
    "        \"srsearch\": q,\n",
    "        \"format\": \"json\"\n",
    "    })\n",
    "    return response.json()[\"query\"][\"search\"][0][\"snippet\"]\n",
    "\n",
    "def calculate(query: str):\n",
    "    return eval(query)\n",
    "\n",
    "known_actions = {\n",
    "    \"wikipedia\": wikipedia,\n",
    "    \"calculate\": calculate\n",
    "}"
   ]
  },
  {
   "cell_type": "code",
   "execution_count": 8,
   "metadata": {},
   "outputs": [
    {
     "data": {
      "text/plain": [
       "'Hello! How can I assist you today?'"
      ]
     },
     "execution_count": 8,
     "metadata": {},
     "output_type": "execute_result"
    }
   ],
   "source": [
    "reload(agents)\n",
    "\n",
    "my_agent = agents.BaseAgent(client=client)\n",
    "my_agent(\"hello\")"
   ]
  },
  {
   "cell_type": "code",
   "execution_count": 27,
   "metadata": {},
   "outputs": [
    {
     "name": "stdout",
     "output_type": "stream",
     "text": [
      "Thought: England is part of the United Kingdom, so it shares borders with other countries within the UK. I should look up what borders England has, specifically with Scotland and Wales. Additionally, it may be useful to confirm the geographical context from Wikipedia.  \n",
      "Action: wikipedia: England borders  \n",
      "PAUSE\n",
      "Thought: England is part of the United Kingdom, so it shares borders with other countries within the UK. I should look up what borders England has, specifically with Scotland and Wales. Additionally, it may be useful to confirm the geographical context from Wikipedia.  \n",
      "Action: wikipedia: England borders  \n",
      "PAUSE\n"
     ]
    }
   ],
   "source": [
    "def query_agent(query: str, max_turns: int = 5):\n",
    "    i = 0\n",
    "    bot = agents.BaseAgent(client=client, system_prompt=react_prompt)\n",
    "    next_prompt = query\n",
    "\n",
    "    while i < max_turns:\n",
    "        i += 1\n",
    "        res = bot(next_prompt)\n",
    "        print(res)\n",
    "        \n",
    "        actions = []\n",
    "        for action in res.split('\\n'):\n",
    "            if action in known_actions:\n",
    "                actions.append(actions_re.match(action))\n",
    "\n",
    "        if actions:\n",
    "            actions, action_input = actions[0].groups()\n",
    "            if actions not in known_actions:\n",
    "                raise ValueError(f\"Unknown action: {actions}\")\n",
    "            print(f\"Running action: {actions} with input: {action_input}\")\n",
    "            observations = known_actions[actions](action_input)\n",
    "            print(f\"Observation: {observations}\")\n",
    "            next_prompt = f\"Observation: {observations}\"\n",
    "        else:\n",
    "            return res\n",
    "\n",
    "print(query_agent(\"What does England share borders with?\"))"
   ]
  }
 ],
 "metadata": {
  "kernelspec": {
   "display_name": "easy-agents",
   "language": "python",
   "name": "python3"
  },
  "language_info": {
   "codemirror_mode": {
    "name": "ipython",
    "version": 3
   },
   "file_extension": ".py",
   "mimetype": "text/x-python",
   "name": "python",
   "nbconvert_exporter": "python",
   "pygments_lexer": "ipython3",
   "version": "3.10.14"
  }
 },
 "nbformat": 4,
 "nbformat_minor": 2
}
